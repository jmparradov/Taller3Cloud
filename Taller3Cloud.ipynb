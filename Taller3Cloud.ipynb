{
 "cells": [
  {
   "cell_type": "code",
   "execution_count": 1,
   "id": "6cbf3456-e967-4634-b034-d2c0253b2e4c",
   "metadata": {
    "execution": {
     "iopub.execute_input": "2025-02-27T01:59:37.573900Z",
     "iopub.status.busy": "2025-02-27T01:59:37.573592Z",
     "iopub.status.idle": "2025-02-27T02:00:24.399655Z",
     "shell.execute_reply": "2025-02-27T02:00:24.398915Z",
     "shell.execute_reply.started": "2025-02-27T01:59:37.573873Z"
    },
    "tags": []
   },
   "outputs": [
    {
     "data": {
      "application/vnd.jupyter.widget-view+json": {
       "model_id": "74813561e832424181fa9992b392e7fc",
       "version_major": 2,
       "version_minor": 0
      },
      "text/plain": [
       "VBox()"
      ]
     },
     "metadata": {},
     "output_type": "display_data"
    },
    {
     "name": "stdout",
     "output_type": "stream",
     "text": [
      "Starting Spark application\n"
     ]
    },
    {
     "data": {
      "text/html": [
       "<table>\n<tbody><tr><th>ID</th><th>YARN Application ID</th><th>Kind</th><th>State</th><th>Spark UI</th><th>Driver log</th><th>User</th><th>Current session?</th></tr><tr><td>1</td><td>application_1740619837536_0002</td><td>pyspark</td><td>idle</td><td><a target=\"_blank\" href=\"http://ip-172-31-47-166.ec2.internal:20888/proxy/application_1740619837536_0002/\" class=\"emr-proxy-link j-IFC2YYGMLTKT application_1740619837536_0002\" emr-resource=\"j-IFC2YYGMLTKT\n\" application-id=\"application_1740619837536_0002\">Link</a></td><td><a target=\"_blank\" href=\"http://ip-172-31-36-55.ec2.internal:8042/node/containerlogs/container_1740619837536_0002_01_000001/livy\">Link</a></td><td>None</td><td>✔</td></tr></tbody></table>"
      ],
      "text/plain": [
       "<IPython.core.display.HTML object>"
      ]
     },
     "metadata": {},
     "output_type": "display_data"
    },
    {
     "data": {
      "application/vnd.jupyter.widget-view+json": {
       "model_id": "",
       "version_major": 2,
       "version_minor": 0
      },
      "text/plain": [
       "FloatProgress(value=0.0, bar_style='info', description='Progress:', layout=Layout(height='25px', width='50%'),…"
      ]
     },
     "metadata": {},
     "output_type": "display_data"
    },
    {
     "name": "stdout",
     "output_type": "stream",
     "text": [
      "SparkSession available as 'spark'.\n"
     ]
    },
    {
     "data": {
      "application/vnd.jupyter.widget-view+json": {
       "model_id": "",
       "version_major": 2,
       "version_minor": 0
      },
      "text/plain": [
       "FloatProgress(value=0.0, bar_style='info', description='Progress:', layout=Layout(height='25px', width='50%'),…"
      ]
     },
     "metadata": {},
     "output_type": "display_data"
    }
   ],
   "source": [
    "import sys\n",
    "from datetime import datetime\n",
    "from pyspark.sql import SparkSession\n",
    "from pyspark.sql.functions import *"
   ]
  },
  {
   "cell_type": "code",
   "execution_count": 6,
   "id": "a97058a0-f170-4014-9bba-d3db7deb9c98",
   "metadata": {
    "execution": {
     "iopub.execute_input": "2025-02-27T02:00:37.176139Z",
     "iopub.status.busy": "2025-02-27T02:00:37.175948Z",
     "iopub.status.idle": "2025-02-27T02:00:37.228696Z",
     "shell.execute_reply": "2025-02-27T02:00:37.228147Z",
     "shell.execute_reply.started": "2025-02-27T02:00:37.176090Z"
    },
    "tags": []
   },
   "outputs": [
    {
     "data": {
      "application/vnd.jupyter.widget-view+json": {
       "model_id": "77f349042bf44bffa97d80f8808e89a0",
       "version_major": 2,
       "version_minor": 0
      },
      "text/plain": [
       "VBox()"
      ]
     },
     "metadata": {},
     "output_type": "display_data"
    },
    {
     "data": {
      "application/vnd.jupyter.widget-view+json": {
       "model_id": "",
       "version_major": 2,
       "version_minor": 0
      },
      "text/plain": [
       "FloatProgress(value=0.0, bar_style='info', description='Progress:', layout=Layout(height='25px', width='50%'),…"
      ]
     },
     "metadata": {},
     "output_type": "display_data"
    }
   ],
   "source": [
    "spark = SparkSession\\\n",
    ".builder\\\n",
    ".appName(\"SparkETL\")\\\n",
    ".getOrCreate()"
   ]
  },
  {
   "cell_type": "code",
   "execution_count": 7,
   "id": "ffc34fa6-3e7d-4c51-b248-1e5a9d424657",
   "metadata": {
    "execution": {
     "iopub.execute_input": "2025-02-27T02:00:37.230882Z",
     "iopub.status.busy": "2025-02-27T02:00:37.230489Z",
     "iopub.status.idle": "2025-02-27T02:00:38.592049Z",
     "shell.execute_reply": "2025-02-27T02:00:38.591443Z",
     "shell.execute_reply.started": "2025-02-27T02:00:37.230842Z"
    },
    "tags": []
   },
   "outputs": [
    {
     "data": {
      "application/vnd.jupyter.widget-view+json": {
       "model_id": "32a4dcde1e6a4580983aa308a3c180ac",
       "version_major": 2,
       "version_minor": 0
      },
      "text/plain": [
       "VBox()"
      ]
     },
     "metadata": {},
     "output_type": "display_data"
    },
    {
     "data": {
      "application/vnd.jupyter.widget-view+json": {
       "model_id": "",
       "version_major": 2,
       "version_minor": 0
      },
      "text/plain": [
       "FloatProgress(value=0.0, bar_style='info', description='Progress:', layout=Layout(height='25px', width='50%'),…"
      ]
     },
     "metadata": {},
     "output_type": "display_data"
    },
    {
     "name": "stdout",
     "output_type": "stream",
     "text": [
      "+---------+----------------+---------------+--------------------+------+---------------+-------------+------------------+------------+----------------+------------+\n",
      "|work_year|experience_level|employment_type|           job_title|salary|salary_currency|salary_in_usd|employee_residence|remote_ratio|company_location|company_size|\n",
      "+---------+----------------+---------------+--------------------+------+---------------+-------------+------------------+------------+----------------+------------+\n",
      "|     2023|              SE|             FT|Principal Data Sc...| 80000|            EUR|        85847|                ES|         100|              ES|           L|\n",
      "|     2023|              MI|             CT|         ML Engineer| 30000|            USD|        30000|                US|         100|              US|           S|\n",
      "|     2023|              MI|             CT|         ML Engineer| 25500|            USD|        25500|                US|         100|              US|           S|\n",
      "|     2023|              SE|             FT|      Data Scientist|175000|            USD|       175000|                CA|         100|              CA|           M|\n",
      "|     2023|              SE|             FT|      Data Scientist|120000|            USD|       120000|                CA|         100|              CA|           M|\n",
      "|     2023|              SE|             FT|   Applied Scientist|222200|            USD|       222200|                US|           0|              US|           L|\n",
      "|     2023|              SE|             FT|   Applied Scientist|136000|            USD|       136000|                US|           0|              US|           L|\n",
      "|     2023|              SE|             FT|      Data Scientist|219000|            USD|       219000|                CA|           0|              CA|           M|\n",
      "|     2023|              SE|             FT|      Data Scientist|141000|            USD|       141000|                CA|           0|              CA|           M|\n",
      "|     2023|              SE|             FT|      Data Scientist|147100|            USD|       147100|                US|           0|              US|           M|\n",
      "|     2023|              SE|             FT|      Data Scientist| 90700|            USD|        90700|                US|           0|              US|           M|\n",
      "|     2023|              SE|             FT|        Data Analyst|130000|            USD|       130000|                US|         100|              US|           M|\n",
      "|     2023|              SE|             FT|        Data Analyst|100000|            USD|       100000|                US|         100|              US|           M|\n",
      "|     2023|              EN|             FT|   Applied Scientist|213660|            USD|       213660|                US|           0|              US|           L|\n",
      "|     2023|              EN|             FT|   Applied Scientist|130760|            USD|       130760|                US|           0|              US|           L|\n",
      "|     2023|              SE|             FT|        Data Modeler|147100|            USD|       147100|                US|           0|              US|           M|\n",
      "|     2023|              SE|             FT|        Data Modeler| 90700|            USD|        90700|                US|           0|              US|           M|\n",
      "|     2023|              SE|             FT|      Data Scientist|170000|            USD|       170000|                US|           0|              US|           M|\n",
      "|     2023|              SE|             FT|      Data Scientist|150000|            USD|       150000|                US|           0|              US|           M|\n",
      "|     2023|              MI|             FT|        Data Analyst|150000|            USD|       150000|                US|         100|              US|           M|\n",
      "+---------+----------------+---------------+--------------------+------+---------------+-------------+------------------+------------+----------------+------------+\n",
      "only showing top 20 rows\n",
      "\n",
      "root\n",
      " |-- work_year: integer (nullable = true)\n",
      " |-- experience_level: string (nullable = true)\n",
      " |-- employment_type: string (nullable = true)\n",
      " |-- job_title: string (nullable = true)\n",
      " |-- salary: integer (nullable = true)\n",
      " |-- salary_currency: string (nullable = true)\n",
      " |-- salary_in_usd: integer (nullable = true)\n",
      " |-- employee_residence: string (nullable = true)\n",
      " |-- remote_ratio: integer (nullable = true)\n",
      " |-- company_location: string (nullable = true)\n",
      " |-- company_size: string (nullable = true)\n",
      "\n",
      "Number of rows: 3755"
     ]
    }
   ],
   "source": [
    "bucket_name = 's3storageudea2025'\n",
    "file_path = 'input/ds_salaries.csv'\n",
    "s3_path = f\"s3a://{bucket_name}/{file_path}\"\n",
    "\n",
    "try:\n",
    "    df = spark.read.csv(s3_path, header=True, inferSchema=True, sep=\",\")\n",
    "\n",
    "    df.show()\n",
    "    df.printSchema()\n",
    "    print(f\"Number of rows: {df.count()}\")\n",
    "\n",
    "    # Perform further data processing here\n",
    "\n",
    "except Exception as e:\n",
    "    print(f\"Error reading CSV from S3: {e}\")\n",
    "\n"
   ]
  },
  {
   "cell_type": "code",
   "execution_count": 8,
   "id": "2b9e72b9-99d0-467e-b9dc-54f7a755f838",
   "metadata": {
    "execution": {
     "iopub.execute_input": "2025-02-27T02:03:36.458382Z",
     "iopub.status.busy": "2025-02-27T02:03:36.458158Z",
     "iopub.status.idle": "2025-02-27T02:03:45.772734Z",
     "shell.execute_reply": "2025-02-27T02:03:45.771927Z",
     "shell.execute_reply.started": "2025-02-27T02:03:36.458356Z"
    }
   },
   "outputs": [
    {
     "data": {
      "application/vnd.jupyter.widget-view+json": {
       "model_id": "a02c757b601d4228b581c65f269a8eac",
       "version_major": 2,
       "version_minor": 0
      },
      "text/plain": [
       "VBox()"
      ]
     },
     "metadata": {},
     "output_type": "display_data"
    },
    {
     "data": {
      "application/vnd.jupyter.widget-view+json": {
       "model_id": "",
       "version_major": 2,
       "version_minor": 0
      },
      "text/plain": [
       "FloatProgress(value=0.0, bar_style='info', description='Progress:', layout=Layout(height='25px', width='50%'),…"
      ]
     },
     "metadata": {},
     "output_type": "display_data"
    },
    {
     "name": "stdout",
     "output_type": "stream",
     "text": [
      "+---------+----------------+---------------+---------+------+---------------+-------------+------------------+------------+----------------+------------+\n",
      "|work_year|experience_level|employment_type|job_title|salary|salary_currency|salary_in_usd|employee_residence|remote_ratio|company_location|company_size|\n",
      "+---------+----------------+---------------+---------+------+---------------+-------------+------------------+------------+----------------+------------+\n",
      "|        0|               0|              0|        0|     0|              0|            0|                 0|           0|               0|           0|\n",
      "+---------+----------------+---------------+---------+------+---------------+-------------+------------------+------------+----------------+------------+"
     ]
    }
   ],
   "source": [
    "# Create a list of columns with their corresponding null counts\n",
    "null_counts = df.select([sum(col(c).isNull().cast(\"int\")).alias(c) for c in df.columns])\n",
    "\n",
    "# Display the null counts\n",
    "null_counts.show()"
   ]
  },
  {
   "cell_type": "code",
   "execution_count": null,
   "id": "e9758f6a-2df1-4742-97cd-c7da5217e89a",
   "metadata": {},
   "outputs": [
    {
     "data": {
      "application/vnd.jupyter.widget-view+json": {
       "model_id": "",
       "version_major": 2,
       "version_minor": 0
      },
      "text/plain": [
       "VBox()"
      ]
     },
     "metadata": {},
     "output_type": "display_data"
    },
    {
     "data": {
      "application/vnd.jupyter.widget-view+json": {
       "model_id": "",
       "version_major": 2,
       "version_minor": 0
      },
      "text/plain": [
       "FloatProgress(value=0.0, bar_style='info', description='Progress:', layout=Layout(height='25px', width='50%'),…"
      ]
     },
     "metadata": {},
     "output_type": "display_data"
    },
    {
     "name": "stdout",
     "output_type": "stream",
     "text": [
      "+-------------+----------+-----------------+----------------+-------------+----------+-----------------+----------------+------------------+------------------+------------------+------------------+\n",
      "|work_year_max|salary_max|salary_in_usd_max|remote_ratio_max|work_year_min|salary_min|salary_in_usd_min|remote_ratio_min|work_year_avg     |salary_avg        |salary_in_usd_avg |remote_ratio_avg  |\n",
      "+-------------+----------+-----------------+----------------+-------------+----------+-----------------+----------------+------------------+------------------+------------------+------------------+\n",
      "|2023         |30400000  |450000           |100             |2020         |6000      |5132             |0               |2022.3736351531293|190695.57177097205|137570.38988015978|46.271637816245004|\n",
      "+-------------+----------+-----------------+----------------+-------------+----------+-----------------+----------------+------------------+------------------+------------------+------------------+"
     ]
    }
   ],
   "source": [
    "from pyspark.sql.functions import max, min, avg\n",
    "from pyspark.sql.types import NumericType \n",
    "\n",
    "# Filter numeric columns\n",
    "numeric_cols = [col for col, dtype in df.dtypes if isinstance(df.schema[col].dataType, NumericType)]\n",
    "\n",
    "# Calculate max, min, and average for each numeric column\n",
    "stats = df.agg(\n",
    "    *(max(col).alias(f\"{col}_max\") for col in numeric_cols),\n",
    "    *(min(col).alias(f\"{col}_min\") for col in numeric_cols),\n",
    "    *(avg(col).alias(f\"{col}_avg\") for col in numeric_cols)\n",
    ")\n",
    "\n",
    "# Show the results in a friendly way\n",
    "stats.show(truncate=False)"
   ]
  },
  {
   "cell_type": "markdown",
   "id": "56f8d331-abd6-4233-8f29-08e9064fc52b",
   "metadata": {},
   "source": [
    "Es cierto que los empleos que se pagan en euros son mejor remunerados que los pagados\n",
    "en dólares"
   ]
  },
  {
   "cell_type": "code",
   "execution_count": 22,
   "id": "990777e0-1a15-4574-9fa8-6de84f98130f",
   "metadata": {
    "execution": {
     "iopub.execute_input": "2025-02-27T02:23:05.343171Z",
     "iopub.status.busy": "2025-02-27T02:23:05.342844Z",
     "iopub.status.idle": "2025-02-27T02:23:14.674685Z",
     "shell.execute_reply": "2025-02-27T02:23:14.673815Z",
     "shell.execute_reply.started": "2025-02-27T02:23:05.343132Z"
    },
    "tags": []
   },
   "outputs": [
    {
     "data": {
      "application/vnd.jupyter.widget-view+json": {
       "model_id": "5d3ff12a38d941e5bd8302c37b8d12ac",
       "version_major": 2,
       "version_minor": 0
      },
      "text/plain": [
       "VBox()"
      ]
     },
     "metadata": {},
     "output_type": "display_data"
    },
    {
     "data": {
      "application/vnd.jupyter.widget-view+json": {
       "model_id": "",
       "version_major": 2,
       "version_minor": 0
      },
      "text/plain": [
       "FloatProgress(value=0.0, bar_style='info', description='Progress:', layout=Layout(height='25px', width='50%'),…"
      ]
     },
     "metadata": {},
     "output_type": "display_data"
    },
    {
     "name": "stdout",
     "output_type": "stream",
     "text": [
      "+---------+---------------+--------------+\n",
      "|work_year|salary_currency|average_salary|\n",
      "+---------+---------------+--------------+\n",
      "|2020     |EUR            |59,907.62     |\n",
      "|2020     |USD            |129,450.26    |\n",
      "|2021     |EUR            |69,316.43     |\n",
      "|2021     |USD            |123,831.11    |\n",
      "|2022     |EUR            |59,825.43     |\n",
      "|2022     |USD            |144,821.95    |\n",
      "|2023     |EUR            |62,846.38     |\n",
      "|2023     |USD            |155,634.79    |\n",
      "+---------+---------------+--------------+"
     ]
    }
   ],
   "source": [
    "# Filter for USD and EUR salaries\n",
    "usd_eur_salaries = df.filter(df.salary_currency.isin(\"USD\", \"EUR\"))\n",
    "\n",
    "# Calculate the average salary in USD and EUR by year\n",
    "average_salaries_by_year = usd_eur_salaries.groupBy(\"work_year\", \"salary_currency\").agg(avg(\"salary_in_usd\").alias(\"average_salary\"))\n",
    "\n",
    "# Format the average salary to 2 decimal places\n",
    "formatted_avg_salaries_by_year = average_salaries_by_year.withColumn(\"average_salary\", format_number(\"average_salary\", 2))\n",
    "\n",
    "# Sort by year and then by currency\n",
    "sorted_avg_salaries = formatted_avg_salaries_by_year.orderBy(\"work_year\", \"salary_currency\")\n",
    "\n",
    "# Show the results in a friendly way\n",
    "sorted_avg_salaries.show(truncate=False)"
   ]
  },
  {
   "cell_type": "markdown",
   "id": "ee5305a4-c744-48a1-a378-5d75e9cfa248",
   "metadata": {},
   "source": [
    "El promedio de salarios en USD es mucho mayor al de Euros a través de los años por lo que según los datos los salarios en dólares son mejor remunerados"
   ]
  },
  {
   "cell_type": "markdown",
   "id": "c4320ebf-a6ea-4901-9c2a-591911ccf283",
   "metadata": {},
   "source": [
    "2. Cual es el promedio de salario por tamaño de empresa"
   ]
  },
  {
   "cell_type": "code",
   "execution_count": 23,
   "id": "5c8374ec-eeae-4051-b2b2-3e47b71128ed",
   "metadata": {
    "execution": {
     "iopub.execute_input": "2025-02-27T02:26:01.232538Z",
     "iopub.status.busy": "2025-02-27T02:26:01.232311Z",
     "iopub.status.idle": "2025-02-27T02:26:10.531781Z",
     "shell.execute_reply": "2025-02-27T02:26:10.531148Z",
     "shell.execute_reply.started": "2025-02-27T02:26:01.232514Z"
    }
   },
   "outputs": [
    {
     "data": {
      "application/vnd.jupyter.widget-view+json": {
       "model_id": "7eecaebfdc08418aa7b894b0dfdf68df",
       "version_major": 2,
       "version_minor": 0
      },
      "text/plain": [
       "VBox()"
      ]
     },
     "metadata": {},
     "output_type": "display_data"
    },
    {
     "data": {
      "application/vnd.jupyter.widget-view+json": {
       "model_id": "",
       "version_major": 2,
       "version_minor": 0
      },
      "text/plain": [
       "FloatProgress(value=0.0, bar_style='info', description='Progress:', layout=Layout(height='25px', width='50%'),…"
      ]
     },
     "metadata": {},
     "output_type": "display_data"
    },
    {
     "name": "stdout",
     "output_type": "stream",
     "text": [
      "+------------+--------------+\n",
      "|company_size|average_salary|\n",
      "+------------+--------------+\n",
      "|M           |143,130.55    |\n",
      "|L           |118,300.98    |\n",
      "|S           |78,226.68     |\n",
      "+------------+--------------+"
     ]
    }
   ],
   "source": [
    "# Calcular el promedio de salario por tamaño de empresa\n",
    "average_salary_by_company_size = df.groupBy(\"company_size\").agg(avg(\"salary_in_usd\").alias(\"average_salary\"))\n",
    "\n",
    "# Formatear el promedio de salario a 2 decimales\n",
    "formatted_avg_salaries_by_company_size = average_salary_by_company_size.withColumn(\"average_salary\", format_number(\"average_salary\", 2))\n",
    "\n",
    "# Mostrar los resultados de forma amigable\n",
    "formatted_avg_salaries_by_company_size.show(truncate=False)"
   ]
  },
  {
   "cell_type": "markdown",
   "id": "4b7a5094-a7d0-42ea-b9a1-c773461afd54",
   "metadata": {},
   "source": [
    "3. Son los empleos remotos los mejor remunerados"
   ]
  },
  {
   "cell_type": "code",
   "execution_count": 25,
   "id": "4b531ab7-12b8-44dd-9f3d-f545d9cfecae",
   "metadata": {
    "execution": {
     "iopub.execute_input": "2025-02-27T02:30:03.353610Z",
     "iopub.status.busy": "2025-02-27T02:30:03.353382Z",
     "iopub.status.idle": "2025-02-27T02:30:12.652442Z",
     "shell.execute_reply": "2025-02-27T02:30:12.651580Z",
     "shell.execute_reply.started": "2025-02-27T02:30:03.353584Z"
    },
    "tags": []
   },
   "outputs": [
    {
     "data": {
      "application/vnd.jupyter.widget-view+json": {
       "model_id": "79a5399be945456baa6a50f85ff83d42",
       "version_major": 2,
       "version_minor": 0
      },
      "text/plain": [
       "VBox()"
      ]
     },
     "metadata": {},
     "output_type": "display_data"
    },
    {
     "data": {
      "application/vnd.jupyter.widget-view+json": {
       "model_id": "",
       "version_major": 2,
       "version_minor": 0
      },
      "text/plain": [
       "FloatProgress(value=0.0, bar_style='info', description='Progress:', layout=Layout(height='25px', width='50%'),…"
      ]
     },
     "metadata": {},
     "output_type": "display_data"
    },
    {
     "name": "stdout",
     "output_type": "stream",
     "text": [
      "+------------+--------------+\n",
      "|remote_ratio|average_salary|\n",
      "+------------+--------------+\n",
      "|100         |136,481.45    |\n",
      "|0           |144,316.20    |\n",
      "|50          |78,400.69     |\n",
      "+------------+--------------+"
     ]
    }
   ],
   "source": [
    "# Calcular el promedio de salario según la proporción de trabajo remoto\n",
    "average_salary_by_remote_ratio = df.groupBy(\"remote_ratio\").agg(avg(\"salary_in_usd\").alias(\"average_salary\"))\n",
    "\n",
    "# Formatear el promedio de salario a 2 decimales\n",
    "formatted_avg_salaries_by_remote_ratio = average_salary_by_remote_ratio.withColumn(\"average_salary\", format_number(\"average_salary\", 2))\n",
    "\n",
    "# Mostrar los resultados de forma amigable\n",
    "formatted_avg_salaries_by_remote_ratio.show(truncate=False)"
   ]
  },
  {
   "cell_type": "markdown",
   "id": "c8a22ec4-0de3-4277-9b72-4c23b41b4355",
   "metadata": {},
   "source": [
    "En promedio los trabajos presenciales son un poco mejor pago que los full remoto, sin embargo los híbridos son los que son menos pagos"
   ]
  },
  {
   "cell_type": "markdown",
   "id": "5cab46b6-12ce-410f-bce3-0b19861a2040",
   "metadata": {},
   "source": [
    "4. Top 10 de las profesiones con salarios mas altos y mas bajos"
   ]
  },
  {
   "cell_type": "code",
   "execution_count": 46,
   "id": "14a95719-9316-477d-8cc9-19ac3cdfe6be",
   "metadata": {
    "execution": {
     "iopub.execute_input": "2025-02-27T02:49:10.184143Z",
     "iopub.status.busy": "2025-02-27T02:49:10.183826Z",
     "iopub.status.idle": "2025-02-27T02:49:11.445984Z",
     "shell.execute_reply": "2025-02-27T02:49:11.445166Z",
     "shell.execute_reply.started": "2025-02-27T02:49:10.184101Z"
    },
    "tags": []
   },
   "outputs": [
    {
     "data": {
      "application/vnd.jupyter.widget-view+json": {
       "model_id": "523b464f17b442d68e04a668373b9082",
       "version_major": 2,
       "version_minor": 0
      },
      "text/plain": [
       "VBox()"
      ]
     },
     "metadata": {},
     "output_type": "display_data"
    },
    {
     "data": {
      "application/vnd.jupyter.widget-view+json": {
       "model_id": "",
       "version_major": 2,
       "version_minor": 0
      },
      "text/plain": [
       "FloatProgress(value=0.0, bar_style='info', description='Progress:', layout=Layout(height='25px', width='50%'),…"
      ]
     },
     "metadata": {},
     "output_type": "display_data"
    },
    {
     "name": "stdout",
     "output_type": "stream",
     "text": [
      "Top 10 profesiones mejor pagadas:\n",
      "+----------------------------------+----------+\n",
      "|job_title                         |avg_salary|\n",
      "+----------------------------------+----------+\n",
      "|Data Science Tech Lead            |375000.0  |\n",
      "|Cloud Data Architect              |250000.0  |\n",
      "|Data Lead                         |212500.0  |\n",
      "|Data Analytics Lead               |211254.5  |\n",
      "|Principal Data Scientist          |198171.13 |\n",
      "|Director of Data Science          |195140.73 |\n",
      "|Principal Data Engineer           |192500.0  |\n",
      "|Machine Learning Software Engineer|192420.0  |\n",
      "|Data Science Manager              |191278.78 |\n",
      "|Applied Scientist                 |190264.48 |\n",
      "+----------------------------------+----------+\n",
      "\n",
      "Top 10 profesiones peor pagadas:\n",
      "+----------------------------------+----------+\n",
      "|job_title                         |avg_salary|\n",
      "+----------------------------------+----------+\n",
      "|Power BI Developer                |5409.0    |\n",
      "|Product Data Scientist            |8000.0    |\n",
      "|Staff Data Analyst                |15000.0   |\n",
      "|3D Computer Vision Researcher     |21352.25  |\n",
      "|Autonomous Vehicle Technician     |26277.5   |\n",
      "|Compliance Data Analyst           |30000.0   |\n",
      "|Principal Data Architect          |38154.0   |\n",
      "|Machine Learning Research Engineer|42819.25  |\n",
      "|Insight Analyst                   |46786.0   |\n",
      "|Data DevOps Engineer              |53654.0   |\n",
      "+----------------------------------+----------+"
     ]
    }
   ],
   "source": [
    "\n",
    "print(\"Top 10 profesiones mejor pagadas:\")\n",
    "df.createOrReplaceTempView(\"EMP\")\n",
    "spark.sql(\"\"\"\n",
    "    select \n",
    "        job_title,\n",
    "        round(AVG(salary_in_usd),2) as avg_salary\n",
    "    from EMP\n",
    "    GROUP BY job_title\n",
    "    ORDER BY avg_salary DESC\n",
    "    LIMIT 10\n",
    "    \"\"\").show(truncate=False)\n",
    "\n",
    "\n",
    "\n",
    "print(\"Top 10 profesiones peor pagadas:\")\n",
    "spark.sql(\"\"\"\n",
    "    select \n",
    "        job_title,\n",
    "        round(AVG(salary_in_usd),2) as avg_salary\n",
    "    from EMP\n",
    "    GROUP BY job_title\n",
    "    ORDER BY avg_salary ASC\n",
    "    LIMIT 10\n",
    "    \"\"\").show(truncate=False)"
   ]
  },
  {
   "cell_type": "markdown",
   "id": "eab34008-42a8-4fc4-a3e7-4d48c3d0c052",
   "metadata": {},
   "source": [
    "5. Países en los que se presenta el mayor y el menor salario"
   ]
  },
  {
   "cell_type": "code",
   "execution_count": 47,
   "id": "7be22a5e-6599-4b3d-be4e-192d1f79a17d",
   "metadata": {
    "execution": {
     "iopub.execute_input": "2025-02-27T02:51:10.665400Z",
     "iopub.status.busy": "2025-02-27T02:51:10.665164Z",
     "iopub.status.idle": "2025-02-27T02:51:19.958966Z",
     "shell.execute_reply": "2025-02-27T02:51:19.958253Z",
     "shell.execute_reply.started": "2025-02-27T02:51:10.665375Z"
    }
   },
   "outputs": [
    {
     "data": {
      "application/vnd.jupyter.widget-view+json": {
       "model_id": "3b152b2bf9d24f608f8b83802612cb65",
       "version_major": 2,
       "version_minor": 0
      },
      "text/plain": [
       "VBox()"
      ]
     },
     "metadata": {},
     "output_type": "display_data"
    },
    {
     "data": {
      "application/vnd.jupyter.widget-view+json": {
       "model_id": "",
       "version_major": 2,
       "version_minor": 0
      },
      "text/plain": [
       "FloatProgress(value=0.0, bar_style='info', description='Progress:', layout=Layout(height='25px', width='50%'),…"
      ]
     },
     "metadata": {},
     "output_type": "display_data"
    },
    {
     "name": "stdout",
     "output_type": "stream",
     "text": [
      "Paises con mayor salario:\n",
      "+----------------+----------+\n",
      "|company_location|avg_salary|\n",
      "+----------------+----------+\n",
      "|IL              |271446.5  |\n",
      "|PR              |167500.0  |\n",
      "|US              |151822.01 |\n",
      "|RU              |140333.33 |\n",
      "|CA              |131917.69 |\n",
      "+----------------+----------+"
     ]
    }
   ],
   "source": [
    "print(\"Paises con mayor salario:\")\n",
    "spark.sql(\"\"\"\n",
    "    select \n",
    "        company_location,\n",
    "        round(AVG(salary_in_usd),2) as avg_salary\n",
    "    from EMP\n",
    "    GROUP BY company_location\n",
    "    ORDER BY avg_salary desc\n",
    "    LIMIT 5\n",
    "    \"\"\").show(truncate=False)"
   ]
  },
  {
   "cell_type": "code",
   "execution_count": 48,
   "id": "9b07ffd8-9b08-46e0-9451-af7f795e2afe",
   "metadata": {
    "execution": {
     "iopub.execute_input": "2025-02-27T02:52:33.714368Z",
     "iopub.status.busy": "2025-02-27T02:52:33.714139Z",
     "iopub.status.idle": "2025-02-27T02:52:42.999913Z",
     "shell.execute_reply": "2025-02-27T02:52:42.999291Z",
     "shell.execute_reply.started": "2025-02-27T02:52:33.714342Z"
    }
   },
   "outputs": [
    {
     "data": {
      "application/vnd.jupyter.widget-view+json": {
       "model_id": "312049b17225454a9bfebefe0e84be1a",
       "version_major": 2,
       "version_minor": 0
      },
      "text/plain": [
       "VBox()"
      ]
     },
     "metadata": {},
     "output_type": "display_data"
    },
    {
     "data": {
      "application/vnd.jupyter.widget-view+json": {
       "model_id": "",
       "version_major": 2,
       "version_minor": 0
      },
      "text/plain": [
       "FloatProgress(value=0.0, bar_style='info', description='Progress:', layout=Layout(height='25px', width='50%'),…"
      ]
     },
     "metadata": {},
     "output_type": "display_data"
    },
    {
     "name": "stdout",
     "output_type": "stream",
     "text": [
      "Paises con menor salario:\n",
      "+----------------+----------+\n",
      "|company_location|avg_salary|\n",
      "+----------------+----------+\n",
      "|MK              |6304.0    |\n",
      "|BO              |7500.0    |\n",
      "|MA              |10000.0   |\n",
      "|AL              |10000.0   |\n",
      "|VN              |12000.0   |\n",
      "+----------------+----------+"
     ]
    }
   ],
   "source": [
    "print(\"Paises con menor salario:\")\n",
    "spark.sql(\"\"\"\n",
    "    select \n",
    "        company_location,\n",
    "        round(AVG(salary_in_usd),2) as avg_salary\n",
    "    from EMP\n",
    "    GROUP BY company_location\n",
    "    ORDER BY avg_salary asc\n",
    "    LIMIT 5\n",
    "    \"\"\").show(truncate=False)"
   ]
  },
  {
   "cell_type": "code",
   "execution_count": null,
   "id": "9d03a2f9-307f-47fc-b3ec-bcd1abe9f1db",
   "metadata": {},
   "outputs": [],
   "source": []
  }
 ],
 "metadata": {
  "kernelspec": {
   "display_name": "PySpark",
   "language": "python",
   "name": "pysparkkernel"
  },
  "language_info": {
   "codemirror_mode": {
    "name": "python",
    "version": 3
   },
   "file_extension": ".py",
   "mimetype": "text/x-python",
   "name": "pyspark",
   "pygments_lexer": "python3"
  }
 },
 "nbformat": 4,
 "nbformat_minor": 5
}
